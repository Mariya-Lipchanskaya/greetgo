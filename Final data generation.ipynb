{
 "cells": [
  {
   "cell_type": "code",
   "execution_count": 17,
   "metadata": {},
   "outputs": [],
   "source": [
    "import numpy as np\n",
    "import pandas as pd\n",
    "import json\n",
    "import os\n",
    "from tqdm import tqdm_notebook \n"
   ]
  },
  {
   "cell_type": "markdown",
   "metadata": {},
   "source": [
    "# Merge files"
   ]
  },
  {
   "cell_type": "code",
   "execution_count": 89,
   "metadata": {},
   "outputs": [],
   "source": [
    "credit=pd.read_csv(\"credit_cleaned.csv\")\n",
    "collaterals=pd.read_csv(\"collaterals_optimized.csv\").drop(\"Unnamed: 0\",axis=1)\n",
    "client=pd.read_csv(\"client_data_cleaned.csv\")\n",
    "overdue=pd.read_csv(\"overdue_with_new_features.csv\")"
   ]
  },
  {
   "cell_type": "code",
   "execution_count": 91,
   "metadata": {},
   "outputs": [],
   "source": [
    "credit_client=credit.merge(client,on=\"client_id\")\n",
    "credit_client_overdue=credit_client.merge(overdue,on=\"contract_id\")\n",
    "data=credit_client_overdue.merge(collaterals,how=\"left\",on=\"contract_id\")\n",
    "data=data.fillna(0) ## not all contracts have collaterals"
   ]
  },
  {
   "cell_type": "markdown",
   "metadata": {},
   "source": [
    "# New features"
   ]
  },
  {
   "cell_type": "code",
   "execution_count": 93,
   "metadata": {
    "scrolled": true
   },
   "outputs": [],
   "source": [
    "#Convert dates into datetime format\n",
    "end=data.date_end.apply(lambda x: pd.to_datetime(x))\n",
    "download=data.download_date.apply(lambda x: pd.to_datetime(x))\n",
    "date_begin=data.date_begin.apply(lambda x: pd.to_datetime(x))\n",
    "data[\"begin_datetime\"]=date_begin\n",
    "data[\"end_datetime\"]=end\n",
    "data[\"download_datetime\"]=download"
   ]
  },
  {
   "cell_type": "code",
   "execution_count": 94,
   "metadata": {},
   "outputs": [],
   "source": [
    "#Functions to claculate days \n",
    "def delta_exp(x):\n",
    "    days=(x.end_datetime-x.download_datetime).days\n",
    "    if days>0:\n",
    "        return 0\n",
    "    else:\n",
    "        return 1 \n",
    "    \n",
    "def delta(x):\n",
    "    days=(x.end_datetime-x.download_datetime).days\n",
    "    return days \n",
    "\n",
    "def delta_begin(x):\n",
    "    days=(x.download_datetime-x.begin_datetime).days\n",
    "    return days "
   ]
  },
  {
   "cell_type": "code",
   "execution_count": 95,
   "metadata": {},
   "outputs": [],
   "source": [
    "#New features with days \n",
    "days=data.apply(lambda x: delta(x),axis=1)\n",
    "exp=data.apply(lambda x: delta_exp(x),axis=1)\n",
    "srok=data.apply(lambda x: delta_begin(x),axis=1)\n",
    "data[\"duration of contract\"]=srok\n",
    "data[\"contract is expired\"]=exp\n",
    "data[\"Days till the end\"]=days"
   ]
  },
  {
   "cell_type": "code",
   "execution_count": 103,
   "metadata": {},
   "outputs": [],
   "source": [
    "#New feature with collateral and contract sum\n",
    "data[\"dolya zaloga\"]=data[\"summa zaloga\"]/data[\"dog_summa_nt\"]"
   ]
  },
  {
   "cell_type": "code",
   "execution_count": null,
   "metadata": {},
   "outputs": [],
   "source": [
    "data.to_csv(\"data_final.csv\")"
   ]
  },
  {
   "cell_type": "markdown",
   "metadata": {},
   "source": [
    "# Final data for model"
   ]
  },
  {
   "cell_type": "code",
   "execution_count": 106,
   "metadata": {},
   "outputs": [],
   "source": [
    "data_model=data.drop(['download_date', 'download_month', 'last_pay_date',\n",
    "       'no', 'overdue_day','branch_code','depart_code','contract_manager_dep_code',\n",
    "       'date_begin', 'date_end', 'client_id','begin_datetime','end_datetime', 'download_datetime','contract_id'],axis=1)"
   ]
  },
  {
   "cell_type": "code",
   "execution_count": null,
   "metadata": {},
   "outputs": [],
   "source": [
    "data_model.to_csv(\"data_for_model.csv\",index=False)"
   ]
  }
 ],
 "metadata": {
  "hide_input": false,
  "kernelspec": {
   "display_name": "Python 3",
   "language": "python",
   "name": "python3"
  },
  "language_info": {
   "codemirror_mode": {
    "name": "ipython",
    "version": 3
   },
   "file_extension": ".py",
   "mimetype": "text/x-python",
   "name": "python",
   "nbconvert_exporter": "python",
   "pygments_lexer": "ipython3",
   "version": "3.6.5"
  },
  "toc": {
   "base_numbering": 1,
   "nav_menu": {},
   "number_sections": true,
   "sideBar": true,
   "skip_h1_title": false,
   "title_cell": "Table of Contents",
   "title_sidebar": "Contents",
   "toc_cell": false,
   "toc_position": {},
   "toc_section_display": true,
   "toc_window_display": false
  }
 },
 "nbformat": 4,
 "nbformat_minor": 2
}
