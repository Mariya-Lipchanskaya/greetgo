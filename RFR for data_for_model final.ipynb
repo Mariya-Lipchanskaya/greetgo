{
 "cells": [
  {
   "cell_type": "code",
   "execution_count": 1,
   "metadata": {},
   "outputs": [],
   "source": [
    "import numpy as np\n",
    "import pandas as pd\n",
    "import matplotlib.pyplot as plt"
   ]
  },
  {
   "cell_type": "code",
   "execution_count": 2,
   "metadata": {},
   "outputs": [],
   "source": [
    "from sklearn.ensemble import RandomForestRegressor\n",
    "from sklearn.metrics import mean_squared_error, r2_score, mean_absolute_error\n",
    "from sklearn.model_selection import GridSearchCV, train_test_split"
   ]
  },
  {
   "cell_type": "markdown",
   "metadata": {},
   "source": [
    "# load data"
   ]
  },
  {
   "cell_type": "code",
   "execution_count": 3,
   "metadata": {},
   "outputs": [],
   "source": [
    "data_for_model = pd.read_csv('data_for_model.csv')"
   ]
  },
  {
   "cell_type": "code",
   "execution_count": 4,
   "metadata": {},
   "outputs": [
    {
     "data": {
      "text/html": [
       "<div>\n",
       "<style scoped>\n",
       "    .dataframe tbody tr th:only-of-type {\n",
       "        vertical-align: middle;\n",
       "    }\n",
       "\n",
       "    .dataframe tbody tr th {\n",
       "        vertical-align: top;\n",
       "    }\n",
       "\n",
       "    .dataframe thead th {\n",
       "        text-align: right;\n",
       "    }\n",
       "</style>\n",
       "<table border=\"1\" class=\"dataframe\">\n",
       "  <thead>\n",
       "    <tr style=\"text-align: right;\">\n",
       "      <th></th>\n",
       "      <th>Unnamed: 0</th>\n",
       "      <th>dog_summa_nt</th>\n",
       "      <th>grace_period</th>\n",
       "      <th>prc_rate</th>\n",
       "      <th>stupen_cred</th>\n",
       "      <th>sum_admin_prc_nt</th>\n",
       "      <th>group_credit</th>\n",
       "      <th>Аннуитетный</th>\n",
       "      <th>Комбинированный</th>\n",
       "      <th>Простой</th>\n",
       "      <th>...</th>\n",
       "      <th>Стоимость сельхоз техники</th>\n",
       "      <th>Уборка будущего урожая</th>\n",
       "      <th>collateral amount</th>\n",
       "      <th>duration of contract</th>\n",
       "      <th>contract is expired</th>\n",
       "      <th>Days till the end</th>\n",
       "      <th>dolya zaloga</th>\n",
       "      <th>sex</th>\n",
       "      <th>type</th>\n",
       "      <th>age</th>\n",
       "    </tr>\n",
       "  </thead>\n",
       "  <tbody>\n",
       "    <tr>\n",
       "      <th>0</th>\n",
       "      <td>0</td>\n",
       "      <td>57100.0</td>\n",
       "      <td>0</td>\n",
       "      <td>42.6</td>\n",
       "      <td>1</td>\n",
       "      <td>0.0</td>\n",
       "      <td>0</td>\n",
       "      <td>0</td>\n",
       "      <td>1</td>\n",
       "      <td>0</td>\n",
       "      <td>...</td>\n",
       "      <td>0.0</td>\n",
       "      <td>0.0</td>\n",
       "      <td>1.0</td>\n",
       "      <td>684</td>\n",
       "      <td>0</td>\n",
       "      <td>199</td>\n",
       "      <td>2.62697</td>\n",
       "      <td>1</td>\n",
       "      <td>1</td>\n",
       "      <td>48</td>\n",
       "    </tr>\n",
       "    <tr>\n",
       "      <th>1</th>\n",
       "      <td>1</td>\n",
       "      <td>5000.0</td>\n",
       "      <td>0</td>\n",
       "      <td>42.0</td>\n",
       "      <td>4</td>\n",
       "      <td>50.0</td>\n",
       "      <td>1</td>\n",
       "      <td>1</td>\n",
       "      <td>0</td>\n",
       "      <td>0</td>\n",
       "      <td>...</td>\n",
       "      <td>0.0</td>\n",
       "      <td>0.0</td>\n",
       "      <td>0.0</td>\n",
       "      <td>63</td>\n",
       "      <td>0</td>\n",
       "      <td>667</td>\n",
       "      <td>0.00000</td>\n",
       "      <td>1</td>\n",
       "      <td>1</td>\n",
       "      <td>50</td>\n",
       "    </tr>\n",
       "    <tr>\n",
       "      <th>2</th>\n",
       "      <td>2</td>\n",
       "      <td>5000.0</td>\n",
       "      <td>0</td>\n",
       "      <td>42.0</td>\n",
       "      <td>3</td>\n",
       "      <td>50.0</td>\n",
       "      <td>0</td>\n",
       "      <td>1</td>\n",
       "      <td>0</td>\n",
       "      <td>0</td>\n",
       "      <td>...</td>\n",
       "      <td>0.0</td>\n",
       "      <td>0.0</td>\n",
       "      <td>0.0</td>\n",
       "      <td>13</td>\n",
       "      <td>0</td>\n",
       "      <td>354</td>\n",
       "      <td>0.00000</td>\n",
       "      <td>0</td>\n",
       "      <td>1</td>\n",
       "      <td>45</td>\n",
       "    </tr>\n",
       "    <tr>\n",
       "      <th>3</th>\n",
       "      <td>3</td>\n",
       "      <td>8000.0</td>\n",
       "      <td>0</td>\n",
       "      <td>46.0</td>\n",
       "      <td>6</td>\n",
       "      <td>10.0</td>\n",
       "      <td>0</td>\n",
       "      <td>1</td>\n",
       "      <td>0</td>\n",
       "      <td>0</td>\n",
       "      <td>...</td>\n",
       "      <td>0.0</td>\n",
       "      <td>0.0</td>\n",
       "      <td>0.0</td>\n",
       "      <td>273</td>\n",
       "      <td>0</td>\n",
       "      <td>458</td>\n",
       "      <td>0.00000</td>\n",
       "      <td>0</td>\n",
       "      <td>1</td>\n",
       "      <td>40</td>\n",
       "    </tr>\n",
       "    <tr>\n",
       "      <th>4</th>\n",
       "      <td>4</td>\n",
       "      <td>8000.0</td>\n",
       "      <td>0</td>\n",
       "      <td>46.0</td>\n",
       "      <td>6</td>\n",
       "      <td>10.0</td>\n",
       "      <td>0</td>\n",
       "      <td>1</td>\n",
       "      <td>0</td>\n",
       "      <td>0</td>\n",
       "      <td>...</td>\n",
       "      <td>0.0</td>\n",
       "      <td>0.0</td>\n",
       "      <td>0.0</td>\n",
       "      <td>304</td>\n",
       "      <td>0</td>\n",
       "      <td>427</td>\n",
       "      <td>0.00000</td>\n",
       "      <td>0</td>\n",
       "      <td>1</td>\n",
       "      <td>40</td>\n",
       "    </tr>\n",
       "  </tbody>\n",
       "</table>\n",
       "<p>5 rows × 64 columns</p>\n",
       "</div>"
      ],
      "text/plain": [
       "   Unnamed: 0  dog_summa_nt  grace_period  prc_rate  stupen_cred  \\\n",
       "0           0       57100.0             0      42.6            1   \n",
       "1           1        5000.0             0      42.0            4   \n",
       "2           2        5000.0             0      42.0            3   \n",
       "3           3        8000.0             0      46.0            6   \n",
       "4           4        8000.0             0      46.0            6   \n",
       "\n",
       "   sum_admin_prc_nt  group_credit  Аннуитетный  Комбинированный  Простой ...   \\\n",
       "0               0.0             0            0                1        0 ...    \n",
       "1              50.0             1            1                0        0 ...    \n",
       "2              50.0             0            1                0        0 ...    \n",
       "3              10.0             0            1                0        0 ...    \n",
       "4              10.0             0            1                0        0 ...    \n",
       "\n",
       "   Стоимость сельхоз техники  Уборка будущего урожая  collateral amount  \\\n",
       "0                        0.0                     0.0                1.0   \n",
       "1                        0.0                     0.0                0.0   \n",
       "2                        0.0                     0.0                0.0   \n",
       "3                        0.0                     0.0                0.0   \n",
       "4                        0.0                     0.0                0.0   \n",
       "\n",
       "   duration of contract  contract is expired  Days till the end  dolya zaloga  \\\n",
       "0                   684                    0                199       2.62697   \n",
       "1                    63                    0                667       0.00000   \n",
       "2                    13                    0                354       0.00000   \n",
       "3                   273                    0                458       0.00000   \n",
       "4                   304                    0                427       0.00000   \n",
       "\n",
       "   sex  type  age  \n",
       "0    1     1   48  \n",
       "1    1     1   50  \n",
       "2    0     1   45  \n",
       "3    0     1   40  \n",
       "4    0     1   40  \n",
       "\n",
       "[5 rows x 64 columns]"
      ]
     },
     "execution_count": 4,
     "metadata": {},
     "output_type": "execute_result"
    }
   ],
   "source": [
    "data_for_model.head()"
   ]
  },
  {
   "cell_type": "code",
   "execution_count": 5,
   "metadata": {},
   "outputs": [],
   "source": [
    "data_for_model.drop(['Unnamed: 0'], axis=1, inplace=True)"
   ]
  },
  {
   "cell_type": "code",
   "execution_count": 6,
   "metadata": {},
   "outputs": [
    {
     "name": "stdout",
     "output_type": "stream",
     "text": [
      "<class 'pandas.core.frame.DataFrame'>\n",
      "RangeIndex: 76870 entries, 0 to 76869\n",
      "Data columns (total 63 columns):\n",
      "dog_summa_nt                     76870 non-null float64\n",
      "grace_period                     76870 non-null int64\n",
      "prc_rate                         76870 non-null float64\n",
      "stupen_cred                      76870 non-null int64\n",
      "sum_admin_prc_nt                 76870 non-null float64\n",
      "group_credit                     76870 non-null int64\n",
      "Аннуитетный                      76870 non-null int64\n",
      "Комбинированный                  76870 non-null int64\n",
      "Простой                          76870 non-null int64\n",
      "RUB                              76870 non-null int64\n",
      "TJS                              76870 non-null int64\n",
      "USD                              76870 non-null int64\n",
      "kind of credit livestock         76870 non-null int64\n",
      "kind of credit micro_agro        76870 non-null int64\n",
      "kind of credit any_day           76870 non-null int64\n",
      "kind of credit micro-business    76870 non-null int64\n",
      "kind of credit chemicals         76870 non-null int64\n",
      "kind of credit family_group      76870 non-null int64\n",
      "kind of credit Others            76870 non-null int64\n",
      "kind of credit new consumer      76870 non-null int64\n",
      "kind of credit credit_card       76870 non-null int64\n",
      "kind of credit general           76870 non-null int64\n",
      "sector not given                 76870 non-null int64\n",
      "sector consumer                  76870 non-null int64\n",
      "sector business                  76870 non-null int64\n",
      "sector housing                   76870 non-null int64\n",
      "Prepayment account_RUB           76870 non-null int64\n",
      "Prepayment account_TJS           76870 non-null int64\n",
      "Prepayment account_USD           76870 non-null int64\n",
      "active_summa_nt                  76870 non-null float64\n",
      "calc_peny_debt_nt                76870 non-null float64\n",
      "debt_all_nt                      76870 non-null float64\n",
      "debt_on_date_nt                  76870 non-null float64\n",
      "overdue_prc_debt_nt              76870 non-null float64\n",
      "plan_debt_on_date_nt             76870 non-null float64\n",
      "plan_prc_debt_nt                 76870 non-null float64\n",
      "prolongated                      76870 non-null int64\n",
      "refunded                         76870 non-null int64\n",
      "target                           76870 non-null float64\n",
      "max_reduction                    76870 non-null float64\n",
      "num_reduction                    76870 non-null int64\n",
      "last_payment                     76870 non-null float64\n",
      "summa zaloga                     76870 non-null float64\n",
      "Вспомогательное оборудование     76870 non-null float64\n",
      "Гарантия                         76870 non-null float64\n",
      "Гарантия резервных товаров       76870 non-null float64\n",
      "Денежные средства                76870 non-null float64\n",
      "Драгоценные металлы              76870 non-null float64\n",
      "Имущество ответственности        76870 non-null float64\n",
      "Крупно-рогатый скот              76870 non-null float64\n",
      "Недвижимость                     76870 non-null float64\n",
      "Поручитель                       76870 non-null float64\n",
      "Сберегательный депозит           76870 non-null float64\n",
      "Стоимость сельхоз техники        76870 non-null float64\n",
      "Уборка будущего урожая           76870 non-null float64\n",
      "collateral amount                76870 non-null float64\n",
      "duration of contract             76870 non-null int64\n",
      "contract is expired              76870 non-null int64\n",
      "Days till the end                76870 non-null int64\n",
      "dolya zaloga                     76870 non-null float64\n",
      "sex                              76870 non-null int64\n",
      "type                             76870 non-null int64\n",
      "age                              76870 non-null int64\n",
      "dtypes: float64(28), int64(35)\n",
      "memory usage: 36.9 MB\n"
     ]
    }
   ],
   "source": [
    "data_for_model.info()"
   ]
  },
  {
   "cell_type": "markdown",
   "metadata": {},
   "source": [
    "# Preprocessing"
   ]
  },
  {
   "cell_type": "code",
   "execution_count": 7,
   "metadata": {},
   "outputs": [],
   "source": [
    "#Prepayment account_RUB delete\n",
    "data_for_model = data_for_model.drop(['Prepayment account_RUB', 'Prepayment account_TJS', 'Prepayment account_USD'], axis=1)"
   ]
  },
  {
   "cell_type": "code",
   "execution_count": 8,
   "metadata": {},
   "outputs": [],
   "source": [
    "X = data_for_model.drop(['target'], axis=1)\n",
    "y = data_for_model['target']"
   ]
  },
  {
   "cell_type": "code",
   "execution_count": 26,
   "metadata": {},
   "outputs": [],
   "source": [
    "X_train, X_test, y_train, y_test = train_test_split(X, y, test_size=0.3, random_state=101)"
   ]
  },
  {
   "cell_type": "markdown",
   "metadata": {},
   "source": [
    "# Model"
   ]
  },
  {
   "cell_type": "code",
   "execution_count": 155,
   "metadata": {},
   "outputs": [],
   "source": [
    "model = RandomForestRegressor(n_estimators=600, min_samples_split=2, min_samples_leaf=2, \n",
    "                              max_features='sqrt', max_depth=110, bootstrap=False)"
   ]
  },
  {
   "cell_type": "code",
   "execution_count": 156,
   "metadata": {},
   "outputs": [
    {
     "data": {
      "text/plain": [
       "RandomForestRegressor(bootstrap=False, criterion='mse', max_depth=110,\n",
       "           max_features='sqrt', max_leaf_nodes=None,\n",
       "           min_impurity_decrease=0.0, min_impurity_split=None,\n",
       "           min_samples_leaf=2, min_samples_split=2,\n",
       "           min_weight_fraction_leaf=0.0, n_estimators=600, n_jobs=1,\n",
       "           oob_score=False, random_state=None, verbose=0, warm_start=False)"
      ]
     },
     "execution_count": 156,
     "metadata": {},
     "output_type": "execute_result"
    }
   ],
   "source": [
    "model.fit(X_train, y_train)"
   ]
  },
  {
   "cell_type": "code",
   "execution_count": 157,
   "metadata": {},
   "outputs": [],
   "source": [
    "y_pred = model.predict(X_test)"
   ]
  },
  {
   "cell_type": "code",
   "execution_count": 158,
   "metadata": {},
   "outputs": [
    {
     "name": "stdout",
     "output_type": "stream",
     "text": [
      "RMSE 16.341310590767907\n",
      "MAE 1.521897726990003\n",
      "R2 0.859133701577221\n"
     ]
    }
   ],
   "source": [
    "print(\"RMSE\", np.sqrt(mean_squared_error(y_test, y_pred)))\n",
    "print(\"MAE\", mean_absolute_error(y_test, y_pred))\n",
    "print(\"R2\", r2_score(y_test, y_pred))"
   ]
  },
  {
   "cell_type": "code",
   "execution_count": 146,
   "metadata": {},
   "outputs": [
    {
     "data": {
      "text/plain": [
       "['RFR1(13.1).pkl']"
      ]
     },
     "execution_count": 146,
     "metadata": {},
     "output_type": "execute_result"
    }
   ],
   "source": [
    "from sklearn.externals import joblib\n",
    "joblib.dump(model, 'RFR1(13.1).pkl')"
   ]
  },
  {
   "cell_type": "code",
   "execution_count": null,
   "metadata": {},
   "outputs": [],
   "source": []
  },
  {
   "cell_type": "markdown",
   "metadata": {},
   "source": [
    "# Predict on data that have no target (it has not 0 value on last observing day)"
   ]
  },
  {
   "cell_type": "code",
   "execution_count": 100,
   "metadata": {},
   "outputs": [],
   "source": [
    "doubt_df = pd.read_csv('doubt_data_for_model.csv')\n",
    "doubt_df_true = pd.read_csv('doubt_data_final.csv')"
   ]
  },
  {
   "cell_type": "code",
   "execution_count": 101,
   "metadata": {},
   "outputs": [],
   "source": [
    "doubt_df = doubt_df.drop(['Prepayment account_RUB', 'Prepayment account_TJS', 'Prepayment account_USD'], axis=1)\n",
    "doubt_df_true = doubt_df_true.drop(['Prepayment account_RUB', 'Prepayment account_TJS', 'Prepayment account_USD'], axis=1)"
   ]
  },
  {
   "cell_type": "code",
   "execution_count": 102,
   "metadata": {},
   "outputs": [
    {
     "name": "stdout",
     "output_type": "stream",
     "text": [
      "<class 'pandas.core.frame.DataFrame'>\n",
      "RangeIndex: 936 entries, 0 to 935\n",
      "Data columns (total 59 columns):\n",
      "dog_summa_nt                     936 non-null float64\n",
      "grace_period                     936 non-null int64\n",
      "prc_rate                         936 non-null float64\n",
      "stupen_cred                      936 non-null int64\n",
      "sum_admin_prc_nt                 936 non-null float64\n",
      "group_credit                     936 non-null int64\n",
      "Аннуитетный                      936 non-null int64\n",
      "Комбинированный                  936 non-null int64\n",
      "Простой                          936 non-null int64\n",
      "RUB                              936 non-null int64\n",
      "TJS                              936 non-null int64\n",
      "USD                              936 non-null int64\n",
      "kind of credit livestock         936 non-null int64\n",
      "kind of credit micro_agro        936 non-null int64\n",
      "kind of credit any_day           936 non-null int64\n",
      "kind of credit micro-business    936 non-null int64\n",
      "kind of credit chemicals         936 non-null int64\n",
      "kind of credit family_group      936 non-null int64\n",
      "kind of credit Others            936 non-null int64\n",
      "kind of credit new consumer      936 non-null int64\n",
      "kind of credit credit_card       936 non-null int64\n",
      "kind of credit general           936 non-null int64\n",
      "sector_NONE                      936 non-null int64\n",
      "sector consumer                  936 non-null int64\n",
      "sector business                  936 non-null int64\n",
      "sector housing                   936 non-null int64\n",
      "sex                              936 non-null int64\n",
      "type                             936 non-null int64\n",
      "age                              936 non-null int64\n",
      "active_summa_nt                  936 non-null float64\n",
      "calc_peny_debt_nt                936 non-null float64\n",
      "debt_all_nt                      936 non-null float64\n",
      "debt_on_date_nt                  936 non-null float64\n",
      "overdue_prc_debt_nt              936 non-null float64\n",
      "plan_debt_on_date_nt             936 non-null float64\n",
      "plan_prc_debt_nt                 936 non-null float64\n",
      "prolongated                      936 non-null int64\n",
      "refunded                         936 non-null int64\n",
      "max_reduction                    936 non-null float64\n",
      "num_reduction                    936 non-null int64\n",
      "last_payment                     936 non-null int64\n",
      "summa zaloga                     936 non-null float64\n",
      "Вспомогательное оборудование     936 non-null float64\n",
      "Гарантия                         936 non-null float64\n",
      "Гарантия резервных товаров       936 non-null float64\n",
      "Денежные средства                936 non-null float64\n",
      "Драгоценные металлы              936 non-null float64\n",
      "Имущество ответственности        936 non-null float64\n",
      "Крупно-рогатый скот              936 non-null float64\n",
      "Недвижимость                     936 non-null float64\n",
      "Поручитель                       936 non-null float64\n",
      "Сберегательный депозит           936 non-null float64\n",
      "Стоимость сельхоз техники        936 non-null float64\n",
      "Уборка будущего урожая           936 non-null float64\n",
      "collateral amount                936 non-null float64\n",
      "duration of contract             936 non-null int64\n",
      "contract is expired              936 non-null int64\n",
      "Days till the end                936 non-null int64\n",
      "dolya zaloga                     936 non-null float64\n",
      "dtypes: float64(26), int64(33)\n",
      "memory usage: 431.5 KB\n"
     ]
    }
   ],
   "source": [
    "doubt_df.info()"
   ]
  },
  {
   "cell_type": "code",
   "execution_count": 103,
   "metadata": {},
   "outputs": [],
   "source": [
    "y_pred_doubt = model.predict(doubt_df)"
   ]
  },
  {
   "cell_type": "code",
   "execution_count": 104,
   "metadata": {},
   "outputs": [],
   "source": [
    "y_pred_doubt = pd.DataFrame(y_pred_doubt)"
   ]
  },
  {
   "cell_type": "code",
   "execution_count": 106,
   "metadata": {},
   "outputs": [
    {
     "data": {
      "text/html": [
       "<div>\n",
       "<style scoped>\n",
       "    .dataframe tbody tr th:only-of-type {\n",
       "        vertical-align: middle;\n",
       "    }\n",
       "\n",
       "    .dataframe tbody tr th {\n",
       "        vertical-align: top;\n",
       "    }\n",
       "\n",
       "    .dataframe thead th {\n",
       "        text-align: right;\n",
       "    }\n",
       "</style>\n",
       "<table border=\"1\" class=\"dataframe\">\n",
       "  <thead>\n",
       "    <tr style=\"text-align: right;\">\n",
       "      <th></th>\n",
       "      <th>0</th>\n",
       "    </tr>\n",
       "  </thead>\n",
       "  <tbody>\n",
       "    <tr>\n",
       "      <th>count</th>\n",
       "      <td>936.000000</td>\n",
       "    </tr>\n",
       "    <tr>\n",
       "      <th>mean</th>\n",
       "      <td>23.372436</td>\n",
       "    </tr>\n",
       "    <tr>\n",
       "      <th>std</th>\n",
       "      <td>101.658489</td>\n",
       "    </tr>\n",
       "    <tr>\n",
       "      <th>min</th>\n",
       "      <td>1.000000</td>\n",
       "    </tr>\n",
       "    <tr>\n",
       "      <th>25%</th>\n",
       "      <td>1.000000</td>\n",
       "    </tr>\n",
       "    <tr>\n",
       "      <th>50%</th>\n",
       "      <td>1.000000</td>\n",
       "    </tr>\n",
       "    <tr>\n",
       "      <th>75%</th>\n",
       "      <td>1.000000</td>\n",
       "    </tr>\n",
       "    <tr>\n",
       "      <th>max</th>\n",
       "      <td>664.400000</td>\n",
       "    </tr>\n",
       "  </tbody>\n",
       "</table>\n",
       "</div>"
      ],
      "text/plain": [
       "                0\n",
       "count  936.000000\n",
       "mean    23.372436\n",
       "std    101.658489\n",
       "min      1.000000\n",
       "25%      1.000000\n",
       "50%      1.000000\n",
       "75%      1.000000\n",
       "max    664.400000"
      ]
     },
     "execution_count": 106,
     "metadata": {},
     "output_type": "execute_result"
    }
   ],
   "source": [
    "y_pred_doubt.describe()"
   ]
  },
  {
   "cell_type": "code",
   "execution_count": 46,
   "metadata": {
    "scrolled": false
   },
   "outputs": [
    {
     "data": {
      "image/png": "[encoded data removed]",
      "text/plain": [
       "<Figure size 720x432 with 1 Axes>"
      ]
     },
     "metadata": {},
     "output_type": "display_data"
    }
   ],
   "source": [
    "plt.figure(figsize=(10,6))\n",
    "plt.hist(y_pred_doubt[0], bins= 20)\n",
    "plt.ylabel('number of contracts')\n",
    "plt.ylabel('number of days in overdue')\n",
    "#plt.title('contracts without targets')\n",
    "plt.show()"
   ]
  },
  {
   "cell_type": "code",
   "execution_count": 107,
   "metadata": {},
   "outputs": [
    {
     "data": {
      "text/plain": [
       "Text(0,0.5,'predicted overdue days')"
      ]
     },
     "execution_count": 107,
     "metadata": {},
     "output_type": "execute_result"
    },
    {
     "data": {
      "image/png": "[encoded data removed]",
      "text/plain": [
       "<Figure size 720x504 with 1 Axes>"
      ]
     },
     "metadata": {},
     "output_type": "display_data"
    }
   ],
   "source": [
    "#doubt_df_true['overdue_day']\n",
    "plt.figure(figsize=(10,7))\n",
    "plt.scatter(doubt_df_true['overdue_day'], y_pred_doubt[0])\n",
    "plt.xlabel('real overdue days')\n",
    "plt.ylabel('predicted overdue days')"
   ]
  },
  {
   "cell_type": "markdown",
   "metadata": {},
   "source": [
    "# Separate model for clients without collaterals"
   ]
  },
  {
   "cell_type": "code",
   "execution_count": 160,
   "metadata": {},
   "outputs": [
    {
     "name": "stdout",
     "output_type": "stream",
     "text": [
      "(60927, 60)\n",
      "(15943, 60)\n"
     ]
    }
   ],
   "source": [
    "DFwoutc = data_for_model.loc[X['summa zaloga'] == 0]\n",
    "DFwc = data_for_model.loc[X['summa zaloga'] != 0]\n",
    "print(DFwoutc.shape)\n",
    "print(DFwc.shape)"
   ]
  },
  {
   "cell_type": "code",
   "execution_count": 161,
   "metadata": {},
   "outputs": [],
   "source": [
    "Xwoutc = DFwoutc.drop(['target'], axis=1)\n",
    "Xwoutc = DFwoutc.drop(['summa zaloga', 'Вспомогательное оборудование', 'Гарантия', \n",
    "                       'Гарантия резервных товаров', 'Денежные средства', 'Драгоценные металлы', \n",
    "                       'Имущество ответственности', 'Крупно-рогатый скот', 'Недвижимость', \n",
    "                       'Поручитель','Сберегательный депозит', 'Стоимость сельхоз техники', \n",
    "                       'Уборка будущего урожая', 'collateral amount'], axis=1)\n",
    "ywoutc = DFwoutc['target']\n",
    "Xwc = DFwc.drop(['target'], axis=1)\n",
    "ywc = DFwc['target']"
   ]
  },
  {
   "cell_type": "markdown",
   "metadata": {},
   "source": [
    "## df without collaterals"
   ]
  },
  {
   "cell_type": "code",
   "execution_count": 162,
   "metadata": {},
   "outputs": [],
   "source": [
    "X_train_woutc, X_test_woutc, y_train_woutc, y_test_woutc = train_test_split(Xwoutc, ywoutc, test_size=0.3, random_state=0)"
   ]
  },
  {
   "cell_type": "code",
   "execution_count": 163,
   "metadata": {},
   "outputs": [
    {
     "name": "stdout",
     "output_type": "stream",
     "text": [
      "RMSE_woutc 0.24168993985176243\n",
      "MAE_woutc 0.0062749603369987505\n",
      "R2_woutc 0.9999411151728432\n"
     ]
    }
   ],
   "source": [
    "model_woutc = RandomForestRegressor()\n",
    "model_woutc.fit(X_train_woutc, y_train_woutc)\n",
    "y_pred_woutc = model_woutc.predict(X_test_woutc)\n",
    "print(\"RMSE_woutc\", np.sqrt(mean_squared_error(y_test_woutc, y_pred_woutc)))\n",
    "print(\"MAE_woutc\", mean_absolute_error(y_test_woutc, y_pred_woutc))\n",
    "print(\"R2_woutc\", r2_score(y_test_woutc, y_pred_woutc))"
   ]
  },
  {
   "cell_type": "code",
   "execution_count": 164,
   "metadata": {},
   "outputs": [
    {
     "data": {
      "text/plain": [
       "Text(0,0.5,'predicted overdue days')"
      ]
     },
     "execution_count": 164,
     "metadata": {},
     "output_type": "execute_result"
    },
    {
     "data": {
      "image/png": "[encoded data removed]",
      "text/plain": [
       "<Figure size 720x504 with 1 Axes>"
      ]
     },
     "metadata": {},
     "output_type": "display_data"
    }
   ],
   "source": [
    "plt.figure(figsize=(10,7))\n",
    "plt.scatter(y_test_woutc, y_pred_woutc)\n",
    "plt.xlabel('real overdue days')\n",
    "plt.ylabel('predicted overdue days')"
   ]
  },
  {
   "cell_type": "markdown",
   "metadata": {},
   "source": [
    "## df with collaterals"
   ]
  },
  {
   "cell_type": "code",
   "execution_count": 165,
   "metadata": {},
   "outputs": [],
   "source": [
    "X_train_wc, X_test_wc, y_train_wc, y_test_wc = train_test_split(Xwc, ywc, test_size=0.3, random_state=0)"
   ]
  },
  {
   "cell_type": "code",
   "execution_count": 166,
   "metadata": {},
   "outputs": [
    {
     "name": "stdout",
     "output_type": "stream",
     "text": [
      "RMSE_wc 25.149417257175095\n",
      "MAE_wc 2.4809533765419194\n",
      "R2_wc 0.8295331149006047\n"
     ]
    }
   ],
   "source": [
    "model_wc = RandomForestRegressor()\n",
    "model_wc.fit(X_train_wc, y_train_wc)\n",
    "y_pred_wc = model_wc.predict(X_test_wc)\n",
    "print(\"RMSE_wc\", np.sqrt(mean_squared_error(y_test_wc, y_pred_wc)))\n",
    "print(\"MAE_wc\", mean_absolute_error(y_test_wc, y_pred_wc))\n",
    "print(\"R2_wc\", r2_score(y_test_wc, y_pred_wc))"
   ]
  },
  {
   "cell_type": "code",
   "execution_count": 168,
   "metadata": {},
   "outputs": [
    {
     "data": {
      "text/plain": [
       "Text(0,0.5,'predicted overdue days')"
      ]
     },
     "execution_count": 168,
     "metadata": {},
     "output_type": "execute_result"
    },
    {
     "data": {
      "image/png": "[encoded data removed]",
      "text/plain": [
       "<Figure size 720x504 with 1 Axes>"
      ]
     },
     "metadata": {},
     "output_type": "display_data"
    }
   ],
   "source": [
    "plt.figure(figsize=(10,7))\n",
    "plt.scatter(y_test_wc, y_pred_wc)\n",
    "plt.xlabel('real overdue days')\n",
    "plt.ylabel('predicted overdue days')"
   ]
  },
  {
   "cell_type": "markdown",
   "metadata": {},
   "source": [
    "## Dataset with collaterals but with the general model"
   ]
  },
  {
   "cell_type": "code",
   "execution_count": 171,
   "metadata": {},
   "outputs": [],
   "source": [
    "y_pred_wc_gen = model.predict(X_test_wc)"
   ]
  },
  {
   "cell_type": "code",
   "execution_count": 172,
   "metadata": {},
   "outputs": [
    {
     "name": "stdout",
     "output_type": "stream",
     "text": [
      "RMSE_wc 15.200900585430421\n",
      "MAE_wc 1.6383203314179282\n",
      "R2_wc 0.9377236988423857\n"
     ]
    }
   ],
   "source": [
    "print(\"RMSE_wc\", np.sqrt(mean_squared_error(y_test_wc, y_pred_wc_gen)))\n",
    "print(\"MAE_wc\", mean_absolute_error(y_test_wc, y_pred_wc_gen))\n",
    "print(\"R2_wc\", r2_score(y_test_wc, y_pred_wc_gen))"
   ]
  },
  {
   "cell_type": "markdown",
   "metadata": {},
   "source": [
    "# Delete all collaterals"
   ]
  },
  {
   "cell_type": "code",
   "execution_count": 64,
   "metadata": {},
   "outputs": [],
   "source": [
    "Xx = data_for_model.drop(['target'], axis=1)\n",
    "Xx = Xx.drop(['summa zaloga', 'Вспомогательное оборудование', 'Гарантия', \n",
    "                       'Гарантия резервных товаров', 'Денежные средства', 'Драгоценные металлы', \n",
    "                       'Имущество ответственности', 'Крупно-рогатый скот', 'Недвижимость', \n",
    "                       'Поручитель','Сберегательный депозит', 'Стоимость сельхоз техники', \n",
    "                       'Уборка будущего урожая', 'collateral amount'], axis=1)\n",
    "yy = data_for_model['target']"
   ]
  },
  {
   "cell_type": "code",
   "execution_count": 65,
   "metadata": {},
   "outputs": [],
   "source": [
    "Xx_train, Xx_test, yy_train, yy_test = train_test_split(Xx, yy, test_size=0.3, random_state=0)"
   ]
  },
  {
   "cell_type": "markdown",
   "metadata": {},
   "source": [
    "## model"
   ]
  },
  {
   "cell_type": "code",
   "execution_count": 67,
   "metadata": {},
   "outputs": [],
   "source": [
    "modelx = RandomForestRegressor()\n",
    "modelx.fit(Xx_train, yy_train)\n",
    "yy_pred = modelx.predict(Xx_test)"
   ]
  },
  {
   "cell_type": "code",
   "execution_count": 68,
   "metadata": {},
   "outputs": [
    {
     "name": "stdout",
     "output_type": "stream",
     "text": [
      "RMSE 14.994280684071864\n",
      "MAE 1.0699969645722216\n",
      "R2 0.868214674140457\n"
     ]
    }
   ],
   "source": [
    "print(\"RMSE\", np.sqrt(mean_squared_error(yy_test, yy_pred)))\n",
    "print(\"MAE\", mean_absolute_error(yy_test, yy_pred))\n",
    "print(\"R2\", r2_score(yy_test, yy_pred))"
   ]
  },
  {
   "cell_type": "code",
   "execution_count": 71,
   "metadata": {},
   "outputs": [
    {
     "data": {
      "text/plain": [
       "Text(0,0.5,'predicted overdue days')"
      ]
     },
     "execution_count": 71,
     "metadata": {},
     "output_type": "execute_result"
    },
    {
     "data": {
      "image/png": "[encoded data removed]",
      "text/plain": [
       "<Figure size 720x504 with 1 Axes>"
      ]
     },
     "metadata": {},
     "output_type": "display_data"
    }
   ],
   "source": [
    "plt.figure(figsize=(10,7))\n",
    "plt.scatter(yy_test, yy_pred)\n",
    "plt.xlabel('real overdue days')\n",
    "plt.ylabel('predicted overdue days')"
   ]
  },
  {
   "cell_type": "markdown",
   "metadata": {},
   "source": [
    "# Feature importance"
   ]
  },
  {
   "cell_type": "code",
   "execution_count": 56,
   "metadata": {},
   "outputs": [
    {
     "data": {
      "image/png": "[encoded data removed]",
      "text/plain": [
       "<Figure size 1080x1080 with 1 Axes>"
      ]
     },
     "metadata": {},
     "output_type": "display_data"
    }
   ],
   "source": [
    "# Calculate feature importances\n",
    "importances = model.feature_importances_\n",
    "\n",
    "# Sort feature importances in descending order\n",
    "indices = np.argsort(importances)[::-1]\n",
    "\n",
    "# Rearrange feature names so they match the sorted feature importances\n",
    "names = [X.columns[i] for i in indices]\n",
    "\n",
    "# Create plot\n",
    "plt.figure(figsize=(15,15))\n",
    "\n",
    "# Create plot title\n",
    "plt.title(\"Feature Importance\")\n",
    "\n",
    "# Add bars\n",
    "plt.barh(range(X.shape[1]), importances[indices])\n",
    "\n",
    "# Add feature names as x-axis labels\n",
    "plt.yticks(range(X.shape[1]), names, rotation=0)\n",
    "\n",
    "# Show plot\n",
    "plt.show()"
   ]
  },
  {
   "cell_type": "code",
   "execution_count": 57,
   "metadata": {},
   "outputs": [
    {
     "data": {
      "image/png": "[encoded data removed]",
      "text/plain": [
       "<Figure size 1008x576 with 1 Axes>"
      ]
     },
     "metadata": {},
     "output_type": "display_data"
    }
   ],
   "source": [
    "#Другой график \n",
    "std = np.std([tree.feature_importances_ for tree in model.estimators_], axis=0)\n",
    "plt.figure(1, figsize=(14, 8))\n",
    "plt.title(\"Feature importances\")\n",
    "plt.bar(range(X_train.shape[1]), importances[indices],\n",
    "       yerr=std[indices], align=\"center\")\n",
    "plt.xticks(range(X_train.shape[1]), X_train.columns[indices],rotation=90)\n",
    "plt.xlim([-1, X_train.shape[1]])\n",
    "plt.show()"
   ]
  },
  {
   "cell_type": "markdown",
   "metadata": {},
   "source": [
    "# Compare predict with true"
   ]
  },
  {
   "cell_type": "code",
   "execution_count": 108,
   "metadata": {},
   "outputs": [],
   "source": [
    "y_t = pd.DataFrame(y_test).reset_index()\n",
    "y_p = pd.DataFrame(y_pred)"
   ]
  },
  {
   "cell_type": "code",
   "execution_count": 109,
   "metadata": {},
   "outputs": [],
   "source": [
    "y_t = y_t.drop(['index'], axis=1)"
   ]
  },
  {
   "cell_type": "code",
   "execution_count": 110,
   "metadata": {
    "scrolled": true
   },
   "outputs": [],
   "source": [
    "df_res = pd.concat([y_t, y_p], axis=1)\n",
    "df_res.columns = ['y_test', 'y_pred']"
   ]
  },
  {
   "cell_type": "code",
   "execution_count": 111,
   "metadata": {},
   "outputs": [],
   "source": [
    "df_res['diff']= df_res['y_test'] - df_res['y_pred']"
   ]
  },
  {
   "cell_type": "code",
   "execution_count": 62,
   "metadata": {},
   "outputs": [],
   "source": [
    "df_res.to_csv('pred_data.csv', index=False)"
   ]
  },
  {
   "cell_type": "markdown",
   "metadata": {},
   "source": [
    "## Plots"
   ]
  },
  {
   "cell_type": "code",
   "execution_count": 112,
   "metadata": {},
   "outputs": [
    {
     "data": {
      "text/plain": [
       "Text(0,0.5,'predicted overdue days')"
      ]
     },
     "execution_count": 112,
     "metadata": {},
     "output_type": "execute_result"
    },
    {
     "data": {
      "image/png": "[encoded data removed]",
      "text/plain": [
       "<Figure size 720x504 with 1 Axes>"
      ]
     },
     "metadata": {},
     "output_type": "display_data"
    }
   ],
   "source": [
    "plt.figure(figsize=(10,7))\n",
    "plt.scatter(df_res['y_test'], df_res['y_pred'])\n",
    "plt.xlabel('real overdue days')\n",
    "plt.ylabel('predicted overdue days')"
   ]
  },
  {
   "cell_type": "markdown",
   "metadata": {},
   "source": [
    "# Tuning hyperparameters"
   ]
  },
  {
   "cell_type": "code",
   "execution_count": null,
   "metadata": {},
   "outputs": [],
   "source": [
    "from sklearn.model_selection import RandomizedSearchCV\n",
    "# Number of trees in random forest\n",
    "n_estimators = [int(x) for x in np.linspace(start = 100, stop = 500, num = 10)]\n",
    "# Number of features to consider at every split\n",
    "max_features = ['auto]\n",
    "# Maximum number of levels in tree\n",
    "max_depth = [int(x) for x in np.linspace(10, 110, num = 11)]\n",
    "max_depth.append(None)\n",
    "# Minimum number of samples required to split a node\n",
    "min_samples_split = [2, 5, 10]\n",
    "# Minimum number of samples required at each leaf node\n",
    "min_samples_leaf = [1, 2, 4]\n",
    "# Method of selecting samples for training each tree\n",
    "bootstrap = [True, False]"
   ]
  },
  {
   "cell_type": "code",
   "execution_count": null,
   "metadata": {},
   "outputs": [],
   "source": [
    "# Create the random grid\n",
    "random_grid = {'n_estimators': n_estimators,\n",
    "               'max_features': max_features,\n",
    "               'max_depth': max_depth,\n",
    "               'min_samples_split': min_samples_split,\n",
    "               'min_samples_leaf': min_samples_leaf,\n",
    "               'bootstrap': bootstrap}"
   ]
  },
  {
   "cell_type": "code",
   "execution_count": null,
   "metadata": {},
   "outputs": [],
   "source": [
    "# Random search of parameters, using 3 fold cross validation, \n",
    "# search across 100 different combinations, and use all available cores\n",
    "rf_random = RandomizedSearchCV(estimator = model, param_distributions = random_grid, n_iter = 100, cv = 3, verbose=2, random_state=42, n_jobs = -1)\n",
    "# Fit the random search model\n",
    "rf_random.fit(X, y)"
   ]
  },
  {
   "cell_type": "code",
   "execution_count": null,
   "metadata": {},
   "outputs": [],
   "source": [
    "y_pred_RFR_RSCV = rf_random.predict(X_test)"
   ]
  },
  {
   "cell_type": "code",
   "execution_count": null,
   "metadata": {},
   "outputs": [],
   "source": [
    "print(rf_random.best_params_)\n",
    "'''OUT:{'n_estimators': 600, 'min_samples_split': 2, 'min_samples_leaf': 2, \n",
    "     'max_features': 'sqrt', 'max_depth': 110, 'bootstrap': False}'''"
   ]
  },
  {
   "cell_type": "code",
   "execution_count": null,
   "metadata": {},
   "outputs": [],
   "source": [
    "my_submission = pd.DataFrame({'y_test': y_test, \n",
    "                              'y_pred': y_pred,\n",
    "                              'y_pred_RandSearchCV': y_pred_RFR_RSCV,\n",
    "                              'diff1': y_test - y_pred,\n",
    "                              'diff2': y_test - y_pred_RFR_RSCV,\n",
    "                              'diff1abs': np.abs(y_test - y_pred),\n",
    "                              'diff2abs': np.abs(y_test - y_pred_RFR_RSCV)})\n",
    "# you could use any filename. We choose submission here\n",
    "my_submission.to_csv('RandomizedSearchCV.csv', index=False)"
   ]
  }
 ],
 "metadata": {
  "hide_input": false,
  "kernelspec": {
   "display_name": "Python 3",
   "language": "python",
   "name": "python3"
  },
  "language_info": {
   "codemirror_mode": {
    "name": "ipython",
    "version": 3
   },
   "file_extension": ".py",
   "mimetype": "text/x-python",
   "name": "python",
   "nbconvert_exporter": "python",
   "pygments_lexer": "ipython3",
   "version": "3.6.5"
  },
  "toc": {
   "base_numbering": 1,
   "nav_menu": {},
   "number_sections": true,
   "sideBar": true,
   "skip_h1_title": false,
   "title_cell": "Table of Contents",
   "title_sidebar": "Contents",
   "toc_cell": false,
   "toc_position": {},
   "toc_section_display": true,
   "toc_window_display": true
  }
 },
 "nbformat": 4,
 "nbformat_minor": 2
}
