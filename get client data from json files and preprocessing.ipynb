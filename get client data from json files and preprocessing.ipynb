{
 "cells": [
  {
   "cell_type": "code",
   "execution_count": 1,
   "metadata": {},
   "outputs": [],
   "source": [
    "import pandas as pd\n",
    "import numpy as np\n",
    "import csv"
   ]
  },
  {
   "cell_type": "code",
   "execution_count": 2,
   "metadata": {},
   "outputs": [],
   "source": [
    "import json\n",
    "import os\n",
    "\n",
    "def file(path):\n",
    "    fds = sorted(os.listdir(path))\n",
    "    filenames = []\n",
    "    for file in fds:\n",
    "        if file.endswith(('.json')): \n",
    "            filenames.append(file)\n",
    "    return filenames\n",
    "\n",
    "\n",
    "path = 'greetgo_data/cs2018-07-17'\n",
    "filenames = file(path)\n",
    "\n",
    "df_tmp = pd.DataFrame(columns=(\"file_name\", \"client_id\", \"date_birth\", \"sex\", \"type\", \n",
    "                                   \"phys_work_place\", \"okved\", \"phys_casta\", \"workplace_spouse\"))\n",
    "    \n",
    "\n",
    "for file in range(len(filenames)):\n",
    "    f = open(path + '/' + filenames[file])\n",
    "    data = json.load(f)    \n",
    "\n",
    "    df_tmp = df_tmp.append({\"file_name\": filenames[file],\n",
    "                   \"client_id\": data[\"client_id\"], \n",
    "                   \"date_birth\": data[\"date_birth\"], \n",
    "                   \"sex\": data[\"sex\"],\n",
    "                   \"type\": data[\"type\"],\n",
    "                   \"phys_work_place\": data[\"phys_work_place\"],\n",
    "                   \"okved\": data[\"okved\"],\n",
    "                   \"phys_casta\": data[\"phys_casta\"], \n",
    "                   \"workplace_spouse\": data[\"workplace_spouse\"]}, ignore_index=True)#index=[0])\n"
   ]
  },
  {
   "cell_type": "code",
   "execution_count": 5,
   "metadata": {},
   "outputs": [],
   "source": [
    "df_tmp['year_bd'] = df_tmp['date_birth'].apply(lambda x: x.split(\"-\")[0])"
   ]
  },
  {
   "cell_type": "code",
   "execution_count": 7,
   "metadata": {},
   "outputs": [],
   "source": [
    "df_tmp['age'] = df_tmp['year_bd'].apply(lambda x: 2018 - int(x))"
   ]
  },
  {
   "cell_type": "code",
   "execution_count": 10,
   "metadata": {},
   "outputs": [],
   "source": [
    "#Физическое лицо\n",
    "df_tmp['type'] = df_tmp['type'].apply(lambda x: 1 if x == 'Физическое лицо' else 0)"
   ]
  },
  {
   "cell_type": "code",
   "execution_count": 11,
   "metadata": {},
   "outputs": [],
   "source": [
    "#Женский Мужской\n",
    "df_tmp['sex'] = df_tmp['sex'].apply(lambda x: 1 if x == 'Женский' else 0)"
   ]
  },
  {
   "cell_type": "code",
   "execution_count": 12,
   "metadata": {},
   "outputs": [],
   "source": [
    "df_tmp.drop(['file_name', 'date_birth', 'phys_work_place', 'okved', \n",
    "                'phys_casta', 'workplace_spouse', 'year_bd'], axis=1, inplace=True)"
   ]
  },
  {
   "cell_type": "code",
   "execution_count": 13,
   "metadata": {},
   "outputs": [
    {
     "data": {
      "text/html": [
       "<div>\n",
       "<style scoped>\n",
       "    .dataframe tbody tr th:only-of-type {\n",
       "        vertical-align: middle;\n",
       "    }\n",
       "\n",
       "    .dataframe tbody tr th {\n",
       "        vertical-align: top;\n",
       "    }\n",
       "\n",
       "    .dataframe thead th {\n",
       "        text-align: right;\n",
       "    }\n",
       "</style>\n",
       "<table border=\"1\" class=\"dataframe\">\n",
       "  <thead>\n",
       "    <tr style=\"text-align: right;\">\n",
       "      <th></th>\n",
       "      <th>client_id</th>\n",
       "      <th>sex</th>\n",
       "      <th>type</th>\n",
       "      <th>age</th>\n",
       "    </tr>\n",
       "  </thead>\n",
       "  <tbody>\n",
       "    <tr>\n",
       "      <th>0</th>\n",
       "      <td>2201320103</td>\n",
       "      <td>1</td>\n",
       "      <td>1</td>\n",
       "      <td>54</td>\n",
       "    </tr>\n",
       "    <tr>\n",
       "      <th>1</th>\n",
       "      <td>1160910199</td>\n",
       "      <td>1</td>\n",
       "      <td>1</td>\n",
       "      <td>53</td>\n",
       "    </tr>\n",
       "    <tr>\n",
       "      <th>2</th>\n",
       "      <td>348196477</td>\n",
       "      <td>0</td>\n",
       "      <td>1</td>\n",
       "      <td>42</td>\n",
       "    </tr>\n",
       "    <tr>\n",
       "      <th>3</th>\n",
       "      <td>1225971105</td>\n",
       "      <td>1</td>\n",
       "      <td>1</td>\n",
       "      <td>48</td>\n",
       "    </tr>\n",
       "    <tr>\n",
       "      <th>4</th>\n",
       "      <td>886064014</td>\n",
       "      <td>1</td>\n",
       "      <td>1</td>\n",
       "      <td>50</td>\n",
       "    </tr>\n",
       "  </tbody>\n",
       "</table>\n",
       "</div>"
      ],
      "text/plain": [
       "    client_id  sex  type  age\n",
       "0  2201320103    1     1   54\n",
       "1  1160910199    1     1   53\n",
       "2   348196477    0     1   42\n",
       "3  1225971105    1     1   48\n",
       "4   886064014    1     1   50"
      ]
     },
     "execution_count": 13,
     "metadata": {},
     "output_type": "execute_result"
    }
   ],
   "source": [
    "df_tmp.head()"
   ]
  },
  {
   "cell_type": "code",
   "execution_count": 14,
   "metadata": {},
   "outputs": [],
   "source": [
    "df_tmp.to_csv('client_data_cleaned.csv', index=False)"
   ]
  }
 ],
 "metadata": {
  "hide_input": false,
  "kernelspec": {
   "display_name": "Python 3",
   "language": "python",
   "name": "python3"
  },
  "language_info": {
   "codemirror_mode": {
    "name": "ipython",
    "version": 3
   },
   "file_extension": ".py",
   "mimetype": "text/x-python",
   "name": "python",
   "nbconvert_exporter": "python",
   "pygments_lexer": "ipython3",
   "version": "3.6.5"
  },
  "toc": {
   "base_numbering": 1,
   "nav_menu": {},
   "number_sections": true,
   "sideBar": true,
   "skip_h1_title": false,
   "title_cell": "Table of Contents",
   "title_sidebar": "Contents",
   "toc_cell": false,
   "toc_position": {},
   "toc_section_display": true,
   "toc_window_display": false
  }
 },
 "nbformat": 4,
 "nbformat_minor": 2
}
