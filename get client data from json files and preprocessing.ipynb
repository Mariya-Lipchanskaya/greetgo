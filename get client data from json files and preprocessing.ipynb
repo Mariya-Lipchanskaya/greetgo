{
 "cells": [
  {
   "cell_type": "code",
   "execution_count": 34,
   "metadata": {},
   "outputs": [],
   "source": [
    "import pandas as pd\n",
    "import numpy as np\n",
    "import csv\n",
    "import matplotlib.pyplot as plt"
   ]
  },
  {
   "cell_type": "code",
   "execution_count": 2,
   "metadata": {},
   "outputs": [],
   "source": [
    "import json\n",
    "import os\n",
    "\n",
    "def file(path):\n",
    "    fds = sorted(os.listdir(path))\n",
    "    filenames = []\n",
    "    for file in fds:\n",
    "        if file.endswith(('.json')): \n",
    "            filenames.append(file)\n",
    "    return filenames\n",
    "\n",
    "\n",
    "path = 'greetgo_data/cs2018-07-17'\n",
    "filenames = file(path)\n",
    "\n",
    "df_tmp = pd.DataFrame(columns=(\"file_name\", \"client_id\", \"date_birth\", \"sex\", \"type\", \n",
    "                                   \"phys_work_place\", \"okved\", \"phys_casta\", \"workplace_spouse\"))\n",
    "    \n",
    "\n",
    "for file in range(len(filenames)):\n",
    "    f = open(path + '/' + filenames[file])\n",
    "    data = json.load(f)    \n",
    "\n",
    "    df_tmp = df_tmp.append({\"file_name\": filenames[file],\n",
    "                   \"client_id\": data[\"client_id\"], \n",
    "                   \"date_birth\": data[\"date_birth\"], \n",
    "                   \"sex\": data[\"sex\"],\n",
    "                   \"type\": data[\"type\"],\n",
    "                   \"phys_work_place\": data[\"phys_work_place\"],\n",
    "                   \"okved\": data[\"okved\"],\n",
    "                   \"phys_casta\": data[\"phys_casta\"], \n",
    "                   \"workplace_spouse\": data[\"workplace_spouse\"]}, ignore_index=True)#index=[0])\n"
   ]
  },
  {
   "cell_type": "code",
   "execution_count": 5,
   "metadata": {},
   "outputs": [],
   "source": [
    "df_tmp['year_bd'] = df_tmp['date_birth'].apply(lambda x: x.split(\"-\")[0])"
   ]
  },
  {
   "cell_type": "code",
   "execution_count": 7,
   "metadata": {},
   "outputs": [],
   "source": [
    "df_tmp['age'] = df_tmp['year_bd'].apply(lambda x: 2018 - int(x))"
   ]
  },
  {
   "cell_type": "code",
   "execution_count": 10,
   "metadata": {},
   "outputs": [],
   "source": [
    "#Физическое лицо\n",
    "df_tmp['type'] = df_tmp['type'].apply(lambda x: 1 if x == 'Физическое лицо' else 0)"
   ]
  },
  {
   "cell_type": "code",
   "execution_count": 11,
   "metadata": {},
   "outputs": [],
   "source": [
    "#Женский Мужской\n",
    "df_tmp['sex'] = df_tmp['sex'].apply(lambda x: 1 if x == 'Женский' else 0)"
   ]
  },
  {
   "cell_type": "code",
   "execution_count": 12,
   "metadata": {},
   "outputs": [],
   "source": [
    "df_tmp.drop(['file_name', 'date_birth', 'phys_work_place', 'okved', \n",
    "                'phys_casta', 'workplace_spouse', 'year_bd'], axis=1, inplace=True)"
   ]
  },
  {
   "cell_type": "code",
   "execution_count": 38,
   "metadata": {},
   "outputs": [
    {
     "data": {
      "text/plain": [
       "37963     -3\n",
       "30798     -3\n",
       "38806     -3\n",
       "40465     -3\n",
       "33580     -3\n",
       "9111      -2\n",
       "42484     -2\n",
       "21378     -2\n",
       "1679      -2\n",
       "31214     -1\n",
       "10816     -1\n",
       "36054      0\n",
       "8102      18\n",
       "15173     18\n",
       "22496     18\n",
       "4062      18\n",
       "31934     18\n",
       "30253     18\n",
       "40697     18\n",
       "29406     18\n",
       "16401     18\n",
       "485       18\n",
       "23244     18\n",
       "32269     18\n",
       "2645      18\n",
       "37948     18\n",
       "39344     19\n",
       "22355     19\n",
       "2033      19\n",
       "26962     19\n",
       "        ... \n",
       "34828     76\n",
       "28996     76\n",
       "32429     76\n",
       "15223     76\n",
       "28598     76\n",
       "6319      76\n",
       "38839     76\n",
       "24509     76\n",
       "20003     76\n",
       "41007     76\n",
       "5977      76\n",
       "33022     76\n",
       "22716     76\n",
       "9519      77\n",
       "41912     77\n",
       "26236     77\n",
       "22962     77\n",
       "12377     77\n",
       "26747     77\n",
       "31126     78\n",
       "43715     78\n",
       "13314     78\n",
       "18616     78\n",
       "8539      78\n",
       "5019      79\n",
       "38450     79\n",
       "27096     80\n",
       "42164     81\n",
       "4808      84\n",
       "394      408\n",
       "Name: age, Length: 43884, dtype: int64"
      ]
     },
     "execution_count": 38,
     "metadata": {},
     "output_type": "execute_result"
    }
   ],
   "source": [
    "df_tmp.sort_values(by=['age'], ascending=True)['age']"
   ]
  },
  {
   "cell_type": "code",
   "execution_count": 65,
   "metadata": {},
   "outputs": [],
   "source": [
    "# удалить неправильные возрасты\n",
    "df_tmp = df_tmp.drop(df_tmp[(df_tmp['age'] < 18) | (df_tmp['age'] > 150)].index)"
   ]
  },
  {
   "cell_type": "code",
   "execution_count": 78,
   "metadata": {},
   "outputs": [
    {
     "data": {
      "text/html": [
       "<div>\n",
       "<style scoped>\n",
       "    .dataframe tbody tr th:only-of-type {\n",
       "        vertical-align: middle;\n",
       "    }\n",
       "\n",
       "    .dataframe tbody tr th {\n",
       "        vertical-align: top;\n",
       "    }\n",
       "\n",
       "    .dataframe thead th {\n",
       "        text-align: right;\n",
       "    }\n",
       "</style>\n",
       "<table border=\"1\" class=\"dataframe\">\n",
       "  <thead>\n",
       "    <tr style=\"text-align: right;\">\n",
       "      <th></th>\n",
       "      <th>sex</th>\n",
       "      <th>age</th>\n",
       "    </tr>\n",
       "  </thead>\n",
       "  <tbody>\n",
       "    <tr>\n",
       "      <th>count</th>\n",
       "      <td>43871.000000</td>\n",
       "      <td>43871.000000</td>\n",
       "    </tr>\n",
       "    <tr>\n",
       "      <th>mean</th>\n",
       "      <td>0.444189</td>\n",
       "      <td>40.859452</td>\n",
       "    </tr>\n",
       "    <tr>\n",
       "      <th>std</th>\n",
       "      <td>0.496881</td>\n",
       "      <td>12.021254</td>\n",
       "    </tr>\n",
       "    <tr>\n",
       "      <th>min</th>\n",
       "      <td>0.000000</td>\n",
       "      <td>18.000000</td>\n",
       "    </tr>\n",
       "    <tr>\n",
       "      <th>25%</th>\n",
       "      <td>0.000000</td>\n",
       "      <td>31.000000</td>\n",
       "    </tr>\n",
       "    <tr>\n",
       "      <th>50%</th>\n",
       "      <td>0.000000</td>\n",
       "      <td>40.000000</td>\n",
       "    </tr>\n",
       "    <tr>\n",
       "      <th>75%</th>\n",
       "      <td>1.000000</td>\n",
       "      <td>50.000000</td>\n",
       "    </tr>\n",
       "    <tr>\n",
       "      <th>max</th>\n",
       "      <td>1.000000</td>\n",
       "      <td>84.000000</td>\n",
       "    </tr>\n",
       "  </tbody>\n",
       "</table>\n",
       "</div>"
      ],
      "text/plain": [
       "                sex           age\n",
       "count  43871.000000  43871.000000\n",
       "mean       0.444189     40.859452\n",
       "std        0.496881     12.021254\n",
       "min        0.000000     18.000000\n",
       "25%        0.000000     31.000000\n",
       "50%        0.000000     40.000000\n",
       "75%        1.000000     50.000000\n",
       "max        1.000000     84.000000"
      ]
     },
     "execution_count": 78,
     "metadata": {},
     "output_type": "execute_result"
    }
   ],
   "source": [
    "df_tmp.describe()"
   ]
  },
  {
   "cell_type": "code",
   "execution_count": 68,
   "metadata": {},
   "outputs": [
    {
     "data": {
      "text/plain": [
       "1    43871\n",
       "Name: type, dtype: int64"
      ]
     },
     "execution_count": 68,
     "metadata": {},
     "output_type": "execute_result"
    }
   ],
   "source": [
    "df_tmp['type'].value_counts()"
   ]
  },
  {
   "cell_type": "code",
   "execution_count": 72,
   "metadata": {},
   "outputs": [],
   "source": [
    "df_tmp.drop(['type'], axis=1, inplace=True)"
   ]
  },
  {
   "cell_type": "code",
   "execution_count": 79,
   "metadata": {},
   "outputs": [],
   "source": [
    "df_tmp.to_csv('client_data_cleaned.csv', index=False)"
   ]
  },
  {
   "cell_type": "code",
   "execution_count": null,
   "metadata": {},
   "outputs": [],
   "source": []
  }
 ],
 "metadata": {
  "hide_input": false,
  "kernelspec": {
   "display_name": "Python 3",
   "language": "python",
   "name": "python3"
  },
  "language_info": {
   "codemirror_mode": {
    "name": "ipython",
    "version": 3
   },
   "file_extension": ".py",
   "mimetype": "text/x-python",
   "name": "python",
   "nbconvert_exporter": "python",
   "pygments_lexer": "ipython3",
   "version": "3.6.5"
  },
  "toc": {
   "base_numbering": 1,
   "nav_menu": {},
   "number_sections": true,
   "sideBar": true,
   "skip_h1_title": false,
   "title_cell": "Table of Contents",
   "title_sidebar": "Contents",
   "toc_cell": false,
   "toc_position": {},
   "toc_section_display": true,
   "toc_window_display": false
  }
 },
 "nbformat": 4,
 "nbformat_minor": 2
}
